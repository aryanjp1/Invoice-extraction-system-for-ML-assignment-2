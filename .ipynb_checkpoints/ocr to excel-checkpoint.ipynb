{
 "cells": [
  {
   "cell_type": "code",
   "execution_count": 15,
   "id": "d4d1fc9a-0cfc-4888-a4a4-43596ceadbc4",
   "metadata": {},
   "outputs": [
    {
     "name": "stdout",
     "output_type": "stream",
     "text": [
      "Excel file created and data stored successfully.\n"
     ]
    }
   ],
   "source": [
    "import cv2\n",
    "import pytesseract\n",
    "import pandas as pd\n",
    "import os\n",
    "from openpyxl import Workbook\n",
    "from openpyxl.utils.dataframe import dataframe_to_rows\n",
    "from openpyxl.styles import Alignment\n",
    "\n",
    "def clean_numeric(value):\n",
    "    return ''.join(ch for ch in value if ch.isdigit() or ch in ',.')\n",
    "\n",
    "image_directory = 'savedimages'\n",
    "excel_path = 'invoice_data.xlsx'\n",
    "\n",
    "column_mappings = {\n",
    "    'BA': 'Billing Address',\n",
    "    'INV': 'Invoice #',\n",
    "    'SA': 'Shipping Address',\n",
    "    'ORD_DATE': 'Order Date',\n",
    "    'INV_DATE': 'Invoice Date',\n",
    "    'TOTAL': 'Total Amount',\n",
    "    # Include additional mappings as needed\n",
    "}\n",
    "\n",
    "df = pd.DataFrame(columns=column_mappings.values())  \n",
    "\n",
    "invoice_data = {column: \"\" for column in column_mappings.values()} \n",
    "\n",
    "pytesseract.pytesseract.tesseract_cmd = r'C:\\Program Files\\Tesseract-OCR\\tesseract.exe'  # Path to Tesseract-OCR\n",
    "\n",
    "for filename in os.listdir(image_directory):\n",
    "    if filename.endswith(\".png\"):  \n",
    "        file_path = os.path.join(image_directory, filename)\n",
    "        img = cv2.imread(file_path)\n",
    "        extracted_text = pytesseract.image_to_string(img)\n",
    "        parts = filename.split('_')\n",
    "        class_name = '_'.join(parts[:-1]) \n",
    "        if class_name in column_mappings:\n",
    "            column_name = column_mappings[class_name]\n",
    "            if column_name == 'Total Amount':\n",
    "                extracted_text = clean_numeric(extracted_text)\n",
    "            invoice_data[column_name] = extracted_text.strip()\n",
    "\n",
    "new_row = pd.DataFrame([invoice_data])  \n",
    "df = pd.concat([df, new_row], ignore_index=True)\n",
    "\n",
    "writer = pd.ExcelWriter(excel_path, engine='openpyxl')\n",
    "df.to_excel(writer, index=False)\n",
    "\n",
    "workbook = writer.book\n",
    "worksheet = writer.sheets['Sheet1']\n",
    "\n",
    "for column_cells in worksheet.columns:\n",
    "    length = max(len(str(cell.value)) for cell in column_cells)\n",
    "    worksheet.column_dimensions[column_cells[0].column_letter].width = length\n",
    "\n",
    "writer.close()\n",
    "print(\"Excel file created and data stored successfully.\")\n"
   ]
  },
  {
   "cell_type": "code",
   "execution_count": null,
   "id": "295c0d65-6338-4b43-9cc3-b3a29c2f97c4",
   "metadata": {},
   "outputs": [],
   "source": []
  }
 ],
 "metadata": {
  "kernelspec": {
   "display_name": "Python 3 (ipykernel)",
   "language": "python",
   "name": "python3"
  },
  "language_info": {
   "codemirror_mode": {
    "name": "ipython",
    "version": 3
   },
   "file_extension": ".py",
   "mimetype": "text/x-python",
   "name": "python",
   "nbconvert_exporter": "python",
   "pygments_lexer": "ipython3",
   "version": "3.11.9"
  }
 },
 "nbformat": 4,
 "nbformat_minor": 5
}
