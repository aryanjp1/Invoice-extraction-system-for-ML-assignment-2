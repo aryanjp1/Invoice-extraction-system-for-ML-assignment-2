{
 "cells": [
  {
   "cell_type": "code",
   "execution_count": 15,
   "id": "2596f34a-7569-482e-be58-44a52dfe4c16",
   "metadata": {},
   "outputs": [
    {
     "name": "stdout",
     "output_type": "stream",
     "text": [
      "\n",
      "0: 640x480 1 BA, 1 BAID, 1 INV, 1 INV_DATE, 1 INV_DATE_ID, 1 INV_ID, 1 TOTAL, 1 TOTAL_ID, 65.0ms\n",
      "Speed: 3.0ms preprocess, 65.0ms inference, 1.0ms postprocess per image at shape (1, 3, 640, 480)\n",
      "Detection and extraction complete.\n"
     ]
    }
   ],
   "source": [
    "class_names = {\n",
    "    0: 'BA',\n",
    "    1: 'BAID',\n",
    "    2: 'INV',\n",
    "    3: 'INV_DATE',\n",
    "    4: 'INV_DATE_ID',\n",
    "    5: 'INV_ID',\n",
    "    6: 'ORD_DATE',\n",
    "    7: 'ORD_DATE_ID',\n",
    "    8: 'SA',\n",
    "    9: 'SAID',\n",
    "    10: 'SLR',\n",
    "    11: 'SLR_ID',\n",
    "    12: 'TOTAL',\n",
    "    13: 'TOTAL_ID'\n",
    "}\n",
    "\n",
    "\n",
    "import cv2\n",
    "import numpy as np\n",
    "from ultralytics import YOLO\n",
    "import os\n",
    "\n",
    "# Load the model\n",
    "model = YOLO('yolov8model/weights/best.pt')\n",
    "\n",
    "# Load the image\n",
    "image_path = 'yolov8dataset/train/images/102-sample2bill-company_png.rf.87494f8f0d32198c509a5a7f673dbb8c.jpg'\n",
    "image = cv2.imread(image_path)\n",
    "if image is None:\n",
    "    print(\"Error loading image\")\n",
    "    exit()\n",
    "\n",
    "# Resize the image if necessary\n",
    "#resized_image = cv2.resize(image, (1020, 500))\n",
    "\n",
    "# Predict using the model\n",
    "results = model.predict(image)\n",
    "boxes = results[0].boxes.data\n",
    "\n",
    "# Directory for saving images\n",
    "save_path = r'C:\\Users\\jawad\\Desktop\\yolov5 object invoice\\savedimages'\n",
    "if not os.path.exists(save_path):\n",
    "    os.makedirs(save_path)\n",
    "\n",
    "# Function to save cropped images with class name as filename\n",
    "def imgwrite(img, class_name, idx):\n",
    "    filename = f'{class_name}_{idx}.png'\n",
    "    cv2.imwrite(os.path.join(save_path, filename), img)\n",
    "\n",
    "# Process detected objects using the class_names dictionary\n",
    "for i, (xmin, ymin, xmax, ymax, conf, cls_id) in enumerate(boxes):\n",
    "    class_name = class_names.get(int(cls_id), \"Unknown\")  # Use the dictionary for class names\n",
    "    cropped_image = image[int(ymin):int(ymax), int(xmin):int(xmax)]\n",
    "    imgwrite(cropped_image, class_name, i)\n",
    "\n",
    "print(\"Detection and extraction complete.\")\n"
   ]
  },
  {
   "cell_type": "code",
   "execution_count": null,
   "id": "7610faf0-d4d6-4412-9d17-21fa21595229",
   "metadata": {},
   "outputs": [],
   "source": []
  }
 ],
 "metadata": {
  "kernelspec": {
   "display_name": "Python 3 (ipykernel)",
   "language": "python",
   "name": "python3"
  },
  "language_info": {
   "codemirror_mode": {
    "name": "ipython",
    "version": 3
   },
   "file_extension": ".py",
   "mimetype": "text/x-python",
   "name": "python",
   "nbconvert_exporter": "python",
   "pygments_lexer": "ipython3",
   "version": "3.11.9"
  }
 },
 "nbformat": 4,
 "nbformat_minor": 5
}
