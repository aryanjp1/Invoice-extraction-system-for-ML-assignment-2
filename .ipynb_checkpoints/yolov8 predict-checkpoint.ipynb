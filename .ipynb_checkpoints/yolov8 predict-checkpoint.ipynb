{
 "cells": [
  {
   "cell_type": "code",
   "execution_count": 2,
   "id": "f48f7dc1-9470-4607-98c2-4e7f39c9cdf5",
   "metadata": {},
   "outputs": [
    {
     "name": "stdout",
     "output_type": "stream",
     "text": [
      "\n",
      "image 1/1 C:\\Users\\jawad\\Desktop\\yolov5 object invoice\\yolov8dataset\\train\\images\\102-sample2bill-company_png.rf.87494f8f0d32198c509a5a7f673dbb8c.jpg: 640x480 1 BA, 1 BAID, 1 INV, 1 INV_DATE, 1 INV_DATE_ID, 1 INV_ID, 1 TOTAL, 1 TOTAL_ID, 73.0ms\n",
      "Speed: 2.0ms preprocess, 73.0ms inference, 584.1ms postprocess per image at shape (1, 3, 640, 480)\n",
      "Results saved to \u001b[1mruns\\detect\\predict2\u001b[0m\n"
     ]
    }
   ],
   "source": [
    "from ultralytics import YOLO\n",
    "\n",
    "# load the custom model\n",
    "model = YOLO('yolov8model/weights/best.pt')\n",
    "\n",
    "results= model(source=\"yolov8dataset/train/images/102-sample2bill-company_png.rf.87494f8f0d32198c509a5a7f673dbb8c.jpg\", show = True, conf = 0.4, save = True)"
   ]
  },
  {
   "cell_type": "code",
   "execution_count": null,
   "id": "b3722ee9-c916-4ecf-ad23-73bd7d85df85",
   "metadata": {},
   "outputs": [],
   "source": []
  }
 ],
 "metadata": {
  "kernelspec": {
   "display_name": "Python 3 (ipykernel)",
   "language": "python",
   "name": "python3"
  },
  "language_info": {
   "codemirror_mode": {
    "name": "ipython",
    "version": 3
   },
   "file_extension": ".py",
   "mimetype": "text/x-python",
   "name": "python",
   "nbconvert_exporter": "python",
   "pygments_lexer": "ipython3",
   "version": "3.11.9"
  }
 },
 "nbformat": 4,
 "nbformat_minor": 5
}
